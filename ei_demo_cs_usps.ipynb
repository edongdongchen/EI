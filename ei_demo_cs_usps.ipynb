{
  "nbformat": 4,
  "nbformat_minor": 0,
  "metadata": {
    "colab": {
      "name": "ei_demo_cs_usps.ipynb",
      "provenance": [],
      "authorship_tag": "ABX9TyMNAfF8ZqRqBd2tT1wJf9QQ",
      "include_colab_link": true
    },
    "kernelspec": {
      "name": "python3",
      "display_name": "Python 3"
    },
    "language_info": {
      "name": "python"
    },
    "accelerator": "GPU"
  },
  "cells": [
    {
      "cell_type": "markdown",
      "metadata": {
        "id": "view-in-github",
        "colab_type": "text"
      },
      "source": [
        "<a href=\"https://colab.research.google.com/github/edongdongchen/EI/blob/main/ei_demo_cs_usps.ipynb\" target=\"_parent\"><img src=\"https://colab.research.google.com/assets/colab-badge.svg\" alt=\"Open In Colab\"/></a>"
      ]
    },
    {
      "cell_type": "code",
      "metadata": {
        "id": "OjnZAd-LuM_B"
      },
      "source": [
        "import numpy as np\n",
        "import torch\n",
        "import torch.nn as nn\n",
        "import torchvision.transforms as transforms\n",
        "from torchvision.datasets import USPS\n",
        "from torch.utils.data import DataLoader\n",
        "\n",
        "import os\n",
        "from datetime import datetime\n",
        "import matplotlib.pyplot as plt"
      ],
      "execution_count": null,
      "outputs": []
    },
    {
      "cell_type": "code",
      "metadata": {
        "id": "razUOZiJy_ip"
      },
      "source": [
        "# define an inverse problem e.g. Compressed Sensing (CS)\n",
        "# where the forward operator A is a random projection matrix\n",
        "class CS():\n",
        "  def __init__(self, d, D, img_shape, dtype=torch.float, device='cuda:0'):\n",
        "    self.img_shape = img_shape\n",
        "    fname = './dataset/forw_cs_{}x{}.pt'.format(d, D)\n",
        "    if os.path.exists(fname):\n",
        "      A, A_dagger = torch.load(fname)\n",
        "    else:\n",
        "      A = np.random.randn(d, D) / np.sqrt(d)\n",
        "      A_dagger = np.linalg.pinv(A)\n",
        "      torch.save([A, A_dagger], fname)\n",
        "      print('CS matrix has been created and saved at {}'.format(fname))\n",
        "    self._A = torch.from_numpy(A).type(dtype).to(device)\n",
        "    self._A_dagger = torch.from_numpy(A_dagger).type(dtype).to(device)\n",
        "\n",
        "  def A(self, x):\n",
        "    y = torch.einsum('in, mn->im', x.reshape(x.shape[0], -1), self._A)\n",
        "    return y\n",
        "\n",
        "  def A_dagger(self, y):\n",
        "    N, C, H, W = y.shape[0], self.img_shape[0], self.img_shape[1], self.img_shape[2]\n",
        "    x = torch.einsum('im, nm->in', y, self._A_dagger)\n",
        "    x = x.reshape(N, C, H, W)\n",
        "    return x"
      ],
      "execution_count": null,
      "outputs": []
    },
    {
      "cell_type": "markdown",
      "metadata": {
        "id": "n9NGveNuTFXo"
      },
      "source": [
        "Plot the compressed measurement $y$ and its Groundtruth $x$. "
      ]
    },
    {
      "cell_type": "code",
      "metadata": {
        "colab": {
          "base_uri": "https://localhost:8080/",
          "height": 165
        },
        "id": "WPtgnuYMw-tj",
        "outputId": "9e44328c-0aa3-4694-f4c0-11f5b5d6d228"
      },
      "source": [
        "dtype = torch.float\n",
        "device = 'cuda:0'\n",
        "batch_size = 1\n",
        "\n",
        "# test set\n",
        "test_dataset = USPS(root='./dataset/', train=False, download=True, transform=transforms.ToTensor())\n",
        "test_dataloader=DataLoader(test_dataset,batch_size=1,shuffle=False)\n",
        "\n",
        "# define a CS (4x) operator\n",
        "physics = CS(64, 256, [1,16,16], dtype, device)\n",
        "# ground-truh\n",
        "x = test_dataset[0][0].type(dtype).to(device) #torch.Size([1, 1, 16, 16])\n",
        "# measurement\n",
        "y = physics.A(x)\n",
        "\n",
        "print(f'x (GT): {x.shape}\\ty: {y.shape}')\n",
        "\n",
        "def torch2img(x):\n",
        "  return x.squeeze().detach().cpu().numpy()\n",
        "  \n",
        "def cal_psnr(a, b):\n",
        "  alpha = np.sqrt(a.shape[-1]*a.shape[-2])\n",
        "  psnr = 20*torch.log10(alpha*torch.norm(b, float('inf'))/torch.norm(b-a, 2))\n",
        "  return psnr.detach().cpu().numpy()\n",
        "\n",
        "ATy = physics.A_dagger(y)\n",
        "# have a look at the cs measurement y, A^+y, and the ground-truth x.\n",
        "plt.subplot(1,3,1)\n",
        "plt.imshow(torch2img(y.view(1,1,4,16)), cmap='gray'), plt.title('y'), plt.axis('off')\n",
        "plt.subplot(1,3,2)\n",
        "plt.imshow(torch2img(ATy), cmap='gray'), plt.title(r'$A^+y$ ({:.2f} dB)'.format(cal_psnr(ATy, x))), plt.axis('off')\n",
        "plt.subplot(1,3,3)\n",
        "plt.imshow(torch2img(x), cmap='gray'), plt.title('x (GT)'), plt.axis('off')\n",
        "plt.show()"
      ],
      "execution_count": null,
      "outputs": [
        {
          "output_type": "stream",
          "name": "stdout",
          "text": [
            "x (GT): torch.Size([1, 16, 16])\ty: torch.Size([1, 64])\n"
          ]
        },
        {
          "output_type": "display_data",
          "data": {
            "image/png": "[encoded data removed]",
            "text/plain": [
              "<Figure size 432x288 with 3 Axes>"
            ]
          },
          "metadata": {
            "needs_background": "light"
          }
        }
      ]
    },
    {
      "cell_type": "markdown",
      "metadata": {
        "id": "AE-rRMOm93Lj"
      },
      "source": [
        "\n",
        "\n",
        "---\n",
        "To learn an reconstruction function $f:y\\rightarrow x$ by only using the measurements set $\\{y\\}$, \n",
        "\n",
        "We assume the signal set $\\mathcal{X}$ is invariant to a groups of transformations $𝑇_𝑔$ related to a group 𝒢, where $T_gT_g^{\\top}=I$. For example:\n",
        "    \n",
        "    - natural images are shift invariant.\n",
        "    - in CT/MRI data, organs can be imaged at different angles making the problem invariant to rotation.\n",
        "\n",
        "Key observations: \n",
        "- Invariance provides access to implicit operators $𝐴_𝑔=𝐴𝑇_𝑔$ with potentially different range spaces:  \n",
        "<center>$𝐴𝑥=𝐴𝑇_𝑔T_g^{\\top}x=𝐴_𝑔 \\tilde{x}$,</center>\n",
        "where $A_g=AT_g$ and $\\tilde{x}=𝑇_𝑔^{\\top}x$.\n",
        "\n",
        "- The composition $𝑓∘𝐴$ is equivariant to the group of transformations ${𝑇_𝑔 }$:  $𝑓(𝐴𝑇_𝑔 𝑥)=𝑇_𝑔 𝑓(𝐴𝑥)$\n",
        "\n",
        "\n",
        "# **ALL** you need is to:\n",
        "\n",
        "1. define a transformation group $\\{T_g\\}$ based on the certain invariances to the signal set.\n",
        "2. define a neural reconstruction function $f_\\theta: y\\rightarrow x$, *e.g.* $f_\\theta=G_\\theta\\circ A^{\\dagger}$ and $G_\\theta$ could be an auto-encoder.\n",
        "\n",
        "Then the Equivairant Imaging is very easy to do:\n",
        "\n",
        "1. calculate $x^{(1)} = f_\\theta(y)$ as the estimation of $x$.\n",
        "2. calculate $x^{(2)} = T_g(x^{(1)})$ by transforming $x^{(1)}$.\n",
        "2. calculate $x^{(3)} = f_\\theta(Ax^{(2)})$ by reconstructing $x^{(2)}$ from its measurement $Ax^{(2)}$.\n",
        "\n",
        "\n",
        "Finaly, **train** your **EI** model to learn the reconstruction function $f$ by solving: \n",
        "\n",
        "$\\arg\\min\\limits_\\theta\\mathbb{E}_{y,g}\\{\\mathcal{L}(Ax^{(1)},y) +\\lambda\\mathcal{L}(x^{(2)},x^{(3)})\\}$.\n",
        "\n",
        "\n",
        "\n",
        "\n",
        "\n"
      ]
    },
    {
      "cell_type": "code",
      "metadata": {
        "id": "bqiygCZ0HcQs"
      },
      "source": [
        "# define a transformation group (random shift)\n",
        "import random\n",
        "class Shift():\n",
        "  def __init__(self, n_trans):\n",
        "    self.n_trans = n_trans\n",
        "  def apply(self, x):\n",
        "    H, W = x.shape[-2], x.shape[-1]\n",
        "    assert self.n_trans <= H - 1 and self.n_trans <= W - 1, 'n_shifts should less than {}'.format(H-1)\n",
        "\n",
        "    shifts_row = random.sample(list(np.concatenate([-1*np.arange(1, H), np.arange(1, H)])), self.n_trans)\n",
        "    shifts_col = random.sample(list(np.concatenate([-1*np.arange(1, W), np.arange(1, W)])), self.n_trans)\n",
        "\n",
        "    x = torch.cat([x if self.n_trans == 0 else torch.roll(x, shifts=[sx, sy], dims=[-2,-1]).type_as(x)\n",
        "              for sx, sy in zip(shifts_row, shifts_col)], dim=0)\n",
        "    return x"
      ],
      "execution_count": null,
      "outputs": []
    },
    {
      "cell_type": "code",
      "metadata": {
        "id": "tUX5jch5UeBf"
      },
      "source": [
        "# define residual unet\n",
        "class UNet(nn.Module):\n",
        "  def __init__(self, in_channels=1, out_channels=1, compact=4, residual=True, circular_padding=True, cat=True):\n",
        "    super(UNet, self).__init__()\n",
        "    self.name = 'unet'\n",
        "    self.residual = residual\n",
        "    self.cat = cat\n",
        "\n",
        "    self.Maxpool = nn.MaxPool2d(kernel_size=2, stride=2)\n",
        "\n",
        "    self.Conv1 = conv_block(ch_in=in_channels, ch_out=64, circular_padding=circular_padding)\n",
        "    self.Conv2 = conv_block(ch_in=64, ch_out=128)\n",
        "    self.Conv3 = conv_block(ch_in=128, ch_out=256)\n",
        "    self.Conv4 = conv_block(ch_in=256, ch_out=512)\n",
        "\n",
        "    self.Up4 = up_conv(ch_in=512, ch_out=256)\n",
        "    self.Up_conv4 = conv_block(ch_in=512, ch_out=256)\n",
        "\n",
        "    self.Up3 = up_conv(ch_in=256, ch_out=128)\n",
        "    self.Up_conv3 = conv_block(ch_in=256, ch_out=128)\n",
        "\n",
        "    self.Up2 = up_conv(ch_in=128, ch_out=64)\n",
        "    self.Up_conv2 = conv_block(ch_in=128, ch_out=64)\n",
        "\n",
        "    self.Conv_1x1 = nn.Conv2d(in_channels=64, out_channels=out_channels, kernel_size=1, stride=1, padding=0)\n",
        "  \n",
        "  def forward(self, x):\n",
        "    # encoding path\n",
        "    cat_dim = 1\n",
        "    input = x\n",
        "    x1 = self.Conv1(input)\n",
        "\n",
        "    x2 = self.Maxpool(x1)\n",
        "    x2 = self.Conv2(x2)\n",
        "\n",
        "    x3 = self.Maxpool(x2)\n",
        "    x3 = self.Conv3(x3)\n",
        "\n",
        "    d3 = self.Up3(x3)\n",
        "    if self.cat:\n",
        "        d3 = torch.cat((x2, d3), dim=cat_dim)\n",
        "        d3 = self.Up_conv3(d3)\n",
        "\n",
        "    d2 = self.Up2(d3)\n",
        "    if self.cat:\n",
        "        d2 = torch.cat((x1, d2), dim=cat_dim)\n",
        "        d2 = self.Up_conv2(d2)\n",
        "\n",
        "    d1 = self.Conv_1x1(d2)\n",
        "\n",
        "    out = d1+x if self.residual else d1\n",
        "    return out\n",
        "\n",
        "class conv_block(nn.Module):\n",
        "  def __init__(self, ch_in, ch_out, circular_padding=False):\n",
        "    super(conv_block, self).__init__()\n",
        "    self.conv = nn.Sequential(\n",
        "        nn.Conv2d(ch_in, ch_out, kernel_size=3, stride=1, padding=1, bias=True,\n",
        "                  padding_mode='circular' if circular_padding else 'zeros'),\n",
        "        nn.BatchNorm2d(ch_out),\n",
        "        nn.ReLU(inplace=True),\n",
        "        nn.Conv2d(ch_out, ch_out, kernel_size=3, stride=1, padding=1, bias=True),\n",
        "        nn.BatchNorm2d(ch_out),\n",
        "        nn.ReLU(inplace=True)\n",
        "    )\n",
        "  def forward(self, x):\n",
        "    x = self.conv(x)\n",
        "    return x\n",
        "\n",
        "class up_conv(nn.Module):\n",
        "  def __init__(self, ch_in, ch_out):\n",
        "    super(up_conv, self).__init__()\n",
        "    self.up = nn.Sequential(\n",
        "        nn.Upsample(scale_factor=2),\n",
        "        nn.Conv2d(ch_in, ch_out, kernel_size=3, stride=1, padding=1, bias=True),\n",
        "        nn.BatchNorm2d(ch_out),\n",
        "        nn.ReLU(inplace=True)\n",
        "    )\n",
        "\n",
        "  def forward(self, x):\n",
        "    x = self.up(x)\n",
        "    return x"
      ],
      "execution_count": null,
      "outputs": []
    },
    {
      "cell_type": "markdown",
      "metadata": {
        "id": "sMxC3CHeOwZO"
      },
      "source": [
        "Define the Neural Reconstruction Funtion $f_\\theta=G_\\theta\\circ A^\\dagger$:"
      ]
    },
    {
      "cell_type": "code",
      "metadata": {
        "id": "MkhUYkdoGngt"
      },
      "source": [
        "G = UNet().to(device)\n",
        "f = lambda y: G(physics.A_dagger(y))"
      ],
      "execution_count": null,
      "outputs": []
    },
    {
      "cell_type": "markdown",
      "metadata": {
        "id": "fbNWZqhGYYfI"
      },
      "source": [
        "Define the transformation group $\\{T_g\\}$:\n"
      ]
    },
    {
      "cell_type": "code",
      "metadata": {
        "id": "UGqs8d1dYfNY"
      },
      "source": [
        "T = Shift(n_trans=2) # random shift: return n_trans=2 randomly shifted versions of the input"
      ],
      "execution_count": null,
      "outputs": []
    },
    {
      "cell_type": "markdown",
      "metadata": {
        "id": "Y9IAfN1lPCNa"
      },
      "source": [
        "**Start Training:**"
      ]
    },
    {
      "cell_type": "code",
      "metadata": {
        "colab": {
          "base_uri": "https://localhost:8080/"
        },
        "id": "AcDi0thJYq71",
        "outputId": "2a388673-8d75-487a-8baa-8d881b9f616a"
      },
      "source": [
        "# Equivariant Imaging\n",
        "lr = 5e-4 #5e-4\n",
        "wd = 1e-8\n",
        "batch_size=8\n",
        "epochs = 500\n",
        "ckp_interval = 100\n",
        "# alpha = 10 # equivariance strength\n",
        "\n",
        "dataloader=DataLoader(USPS(root='./dataset/',train=True,download=True, transform=transforms.ToTensor()),batch_size=batch_size,shuffle=True)\n",
        "now = lambda: datetime.now().strftime('%y-%m-%d-%H:%M:%S')\n",
        "\n",
        "def train(mode='ei', alpha=None):\n",
        "  optimizer = torch.optim.Adam(G.parameters(), lr=lr, weight_decay=wd)\n",
        "  mse = torch.nn.MSELoss().to(device)\n",
        "\n",
        "  print(f'train {mode}...')\n",
        "  save_path = './ckp/{}_cs4x_{}{}'.format(now(), mode, '' if alpha is None else alpha)\n",
        "  os.makedirs(save_path, exist_ok=True)\n",
        "\n",
        "  for epoch in range(epochs):\n",
        "    loss_mc_epoch, loss_ei_epoch, loss_epoch, psnr_epoch = [], [], [], []\n",
        "    for i, x in enumerate(dataloader):\n",
        "      x = x[0].type(dtype).to(device) #torch.Size([4, 1, 16, 16])\n",
        "      y = physics.A(x) #generate the measurements for training\n",
        "      x1 = f(y) #reconstruction\n",
        "\n",
        "      if mode=='sup':\n",
        "        loss = mse(x1, x)\n",
        "      if mode=='mc':\n",
        "        loss = mse(physics.A(x1), y)\n",
        "      if mode=='ei': #(only 2 lines code to learn x w/o GT)\n",
        "        x2 = T.apply(x1)\n",
        "        x3 = f(physics.A(x2))\n",
        "        loss = mse(physics.A(x1), y) + alpha * mse(x3, x2)\n",
        "\n",
        "      loss_epoch.append(loss.item())\n",
        "      psnr_epoch.append(cal_psnr(x1, x))\n",
        "\n",
        "      optimizer.zero_grad()\n",
        "      loss.backward()\n",
        "      optimizer.step()\n",
        "    print('{}\\t[{}/{}]\\tloss={:.4e}\\tpsnr={:.3f}'.format(now(), epoch,epochs,np.mean(loss_epoch), np.mean(psnr_epoch)))\n",
        "    \n",
        "    # save the trained model\n",
        "    if epoch % ckp_interval == 0 or epoch + 1 == epochs:\n",
        "      state = {'epoch': epoch, 'state_dict': G.state_dict(), 'optimizer': optimizer.state_dict()} \n",
        "      torch.save(state, os.path.join(save_path, 'ckp_{}.pth.tar'.format(epoch)))\n",
        "\n",
        "train('ei',10)\n",
        "train('ei',1)\n",
        "train('sup')\n",
        "train('mc')\n"
      ],
      "execution_count": null,
      "outputs": [
        {
          "output_type": "stream",
          "name": "stdout",
          "text": [
            "train ei...\n",
            "21-09-17-15:15:25\t[0/500]\tloss=1.1504e-01\tpsnr=5.180\n",
            "21-09-17-15:16:08\t[1/500]\tloss=4.8247e-02\tpsnr=7.979\n",
            "21-09-17-15:16:51\t[2/500]\tloss=3.6663e-02\tpsnr=9.037\n",
            "21-09-17-15:17:34\t[3/500]\tloss=3.1511e-02\tpsnr=9.629\n",
            "21-09-17-15:18:17\t[4/500]\tloss=2.8984e-02\tpsnr=9.974\n",
            "21-09-17-15:19:00\t[5/500]\tloss=2.7200e-02\tpsnr=10.338\n",
            "21-09-17-15:19:43\t[6/500]\tloss=2.5441e-02\tpsnr=10.677\n",
            "21-09-17-15:20:26\t[7/500]\tloss=2.3814e-02\tpsnr=10.939\n",
            "21-09-17-15:21:09\t[8/500]\tloss=2.2801e-02\tpsnr=11.118\n",
            "21-09-17-15:21:52\t[9/500]\tloss=2.1785e-02\tpsnr=11.322\n",
            "21-09-17-15:22:36\t[10/500]\tloss=2.0702e-02\tpsnr=11.448\n",
            "21-09-17-15:23:19\t[11/500]\tloss=1.9855e-02\tpsnr=11.614\n",
            "21-09-17-15:24:02\t[12/500]\tloss=1.9236e-02\tpsnr=11.676\n",
            "21-09-17-15:24:45\t[13/500]\tloss=1.8321e-02\tpsnr=11.792\n",
            "21-09-17-15:25:28\t[14/500]\tloss=1.7264e-02\tpsnr=11.934\n",
            "21-09-17-15:26:11\t[15/500]\tloss=1.6937e-02\tpsnr=11.983\n",
            "21-09-17-15:26:54\t[16/500]\tloss=1.6336e-02\tpsnr=12.025\n",
            "21-09-17-15:27:37\t[17/500]\tloss=1.5818e-02\tpsnr=12.149\n",
            "21-09-17-15:28:20\t[18/500]\tloss=1.5164e-02\tpsnr=12.226\n",
            "21-09-17-15:29:04\t[19/500]\tloss=1.4959e-02\tpsnr=12.254\n",
            "21-09-17-15:29:47\t[20/500]\tloss=1.4499e-02\tpsnr=12.347\n",
            "21-09-17-15:30:30\t[21/500]\tloss=1.4063e-02\tpsnr=12.405\n",
            "21-09-17-15:31:13\t[22/500]\tloss=1.3858e-02\tpsnr=12.449\n",
            "21-09-17-15:31:56\t[23/500]\tloss=1.3296e-02\tpsnr=12.537\n",
            "21-09-17-15:32:39\t[24/500]\tloss=1.3107e-02\tpsnr=12.586\n",
            "21-09-17-15:33:22\t[25/500]\tloss=1.3049e-02\tpsnr=12.590\n",
            "21-09-17-15:34:05\t[26/500]\tloss=1.2847e-02\tpsnr=12.619\n",
            "21-09-17-15:34:49\t[27/500]\tloss=1.2277e-02\tpsnr=12.743\n",
            "21-09-17-15:35:32\t[28/500]\tloss=1.2414e-02\tpsnr=12.696\n",
            "21-09-17-15:36:15\t[29/500]\tloss=1.2077e-02\tpsnr=12.769\n",
            "21-09-17-15:36:58\t[30/500]\tloss=1.1956e-02\tpsnr=12.772\n",
            "21-09-17-15:37:41\t[31/500]\tloss=1.1683e-02\tpsnr=12.840\n",
            "21-09-17-15:38:24\t[32/500]\tloss=1.1513e-02\tpsnr=12.900\n",
            "21-09-17-15:39:07\t[33/500]\tloss=1.1422e-02\tpsnr=12.895\n",
            "21-09-17-15:39:50\t[34/500]\tloss=1.1020e-02\tpsnr=12.977\n",
            "21-09-17-15:40:33\t[35/500]\tloss=1.0989e-02\tpsnr=12.959\n",
            "21-09-17-15:41:16\t[36/500]\tloss=1.0998e-02\tpsnr=12.973\n",
            "21-09-17-15:41:59\t[37/500]\tloss=1.0741e-02\tpsnr=13.054\n",
            "21-09-17-15:42:42\t[38/500]\tloss=1.0878e-02\tpsnr=13.008\n",
            "21-09-17-15:43:25\t[39/500]\tloss=1.0632e-02\tpsnr=13.053\n",
            "21-09-17-15:44:08\t[40/500]\tloss=1.0366e-02\tpsnr=13.146\n",
            "21-09-17-15:44:51\t[41/500]\tloss=1.0353e-02\tpsnr=13.155\n",
            "21-09-17-15:45:34\t[42/500]\tloss=1.0181e-02\tpsnr=13.190\n",
            "21-09-17-15:46:18\t[43/500]\tloss=1.0122e-02\tpsnr=13.180\n",
            "21-09-17-15:47:01\t[44/500]\tloss=9.8905e-03\tpsnr=13.223\n",
            "21-09-17-15:47:44\t[45/500]\tloss=9.9729e-03\tpsnr=13.251\n",
            "21-09-17-15:48:27\t[46/500]\tloss=9.9705e-03\tpsnr=13.236\n",
            "21-09-17-15:49:10\t[47/500]\tloss=9.6932e-03\tpsnr=13.310\n",
            "21-09-17-15:49:53\t[48/500]\tloss=9.5986e-03\tpsnr=13.316\n",
            "21-09-17-15:50:36\t[49/500]\tloss=9.4664e-03\tpsnr=13.417\n",
            "21-09-17-15:51:19\t[50/500]\tloss=9.5575e-03\tpsnr=13.355\n",
            "21-09-17-15:52:02\t[51/500]\tloss=9.2736e-03\tpsnr=13.435\n",
            "21-09-17-15:52:46\t[52/500]\tloss=9.4392e-03\tpsnr=13.414\n",
            "21-09-17-15:53:29\t[53/500]\tloss=9.3508e-03\tpsnr=13.437\n",
            "21-09-17-15:54:12\t[54/500]\tloss=9.1433e-03\tpsnr=13.437\n",
            "21-09-17-15:54:55\t[55/500]\tloss=9.1045e-03\tpsnr=13.483\n",
            "21-09-17-15:55:38\t[56/500]\tloss=8.9874e-03\tpsnr=13.540\n",
            "21-09-17-15:56:21\t[57/500]\tloss=8.9944e-03\tpsnr=13.523\n",
            "21-09-17-15:57:04\t[58/500]\tloss=9.0060e-03\tpsnr=13.518\n",
            "21-09-17-15:57:48\t[59/500]\tloss=8.9612e-03\tpsnr=13.508\n",
            "21-09-17-15:58:31\t[60/500]\tloss=8.8276e-03\tpsnr=13.560\n",
            "21-09-17-15:59:14\t[61/500]\tloss=8.7229e-03\tpsnr=13.565\n",
            "21-09-17-15:59:57\t[62/500]\tloss=8.6347e-03\tpsnr=13.588\n",
            "21-09-17-16:00:41\t[63/500]\tloss=8.5550e-03\tpsnr=13.632\n",
            "21-09-17-16:01:24\t[64/500]\tloss=8.6694e-03\tpsnr=13.586\n",
            "21-09-17-16:02:07\t[65/500]\tloss=8.5101e-03\tpsnr=13.639\n",
            "21-09-17-16:02:50\t[66/500]\tloss=8.4670e-03\tpsnr=13.606\n",
            "21-09-17-16:03:33\t[67/500]\tloss=8.3326e-03\tpsnr=13.680\n",
            "21-09-17-16:04:16\t[68/500]\tloss=8.5481e-03\tpsnr=13.626\n",
            "21-09-17-16:05:00\t[69/500]\tloss=8.2922e-03\tpsnr=13.697\n",
            "21-09-17-16:05:43\t[70/500]\tloss=8.1317e-03\tpsnr=13.717\n",
            "21-09-17-16:06:26\t[71/500]\tloss=8.0947e-03\tpsnr=13.759\n",
            "21-09-17-16:07:09\t[72/500]\tloss=8.2598e-03\tpsnr=13.709\n",
            "21-09-17-16:07:52\t[73/500]\tloss=8.1176e-03\tpsnr=13.731\n",
            "21-09-17-16:08:35\t[74/500]\tloss=8.0226e-03\tpsnr=13.743\n",
            "21-09-17-16:09:19\t[75/500]\tloss=8.2002e-03\tpsnr=13.728\n",
            "21-09-17-16:10:02\t[76/500]\tloss=7.9611e-03\tpsnr=13.769\n",
            "21-09-17-16:10:45\t[77/500]\tloss=8.0371e-03\tpsnr=13.749\n",
            "21-09-17-16:11:28\t[78/500]\tloss=7.9988e-03\tpsnr=13.766\n",
            "21-09-17-16:12:11\t[79/500]\tloss=7.8955e-03\tpsnr=13.784\n",
            "21-09-17-16:12:54\t[80/500]\tloss=7.8691e-03\tpsnr=13.823\n",
            "21-09-17-16:13:37\t[81/500]\tloss=7.7483e-03\tpsnr=13.808\n",
            "21-09-17-16:14:20\t[82/500]\tloss=7.7038e-03\tpsnr=13.833\n",
            "21-09-17-16:15:03\t[83/500]\tloss=7.8054e-03\tpsnr=13.787\n",
            "21-09-17-16:15:46\t[84/500]\tloss=7.7703e-03\tpsnr=13.805\n",
            "21-09-17-16:16:29\t[85/500]\tloss=7.6868e-03\tpsnr=13.843\n",
            "21-09-17-16:17:12\t[86/500]\tloss=7.6884e-03\tpsnr=13.828\n",
            "21-09-17-16:17:55\t[87/500]\tloss=7.6436e-03\tpsnr=13.844\n",
            "21-09-17-16:18:38\t[88/500]\tloss=7.4972e-03\tpsnr=13.873\n",
            "21-09-17-16:19:21\t[89/500]\tloss=7.4246e-03\tpsnr=13.882\n",
            "21-09-17-16:20:04\t[90/500]\tloss=7.5027e-03\tpsnr=13.876\n",
            "21-09-17-16:20:48\t[91/500]\tloss=7.4831e-03\tpsnr=13.893\n",
            "21-09-17-16:21:31\t[92/500]\tloss=7.5167e-03\tpsnr=13.886\n",
            "21-09-17-16:22:14\t[93/500]\tloss=7.3531e-03\tpsnr=13.907\n",
            "21-09-17-16:22:57\t[94/500]\tloss=7.3150e-03\tpsnr=13.923\n",
            "21-09-17-16:23:40\t[95/500]\tloss=7.2759e-03\tpsnr=13.926\n",
            "21-09-17-16:24:23\t[96/500]\tloss=7.2015e-03\tpsnr=13.928\n",
            "21-09-17-16:25:06\t[97/500]\tloss=7.3943e-03\tpsnr=13.901\n",
            "21-09-17-16:25:49\t[98/500]\tloss=7.3258e-03\tpsnr=13.917\n",
            "21-09-17-16:26:32\t[99/500]\tloss=7.2111e-03\tpsnr=13.944\n",
            "21-09-17-16:27:15\t[100/500]\tloss=7.1914e-03\tpsnr=13.945\n",
            "21-09-17-16:27:58\t[101/500]\tloss=7.1797e-03\tpsnr=13.956\n",
            "21-09-17-16:28:41\t[102/500]\tloss=7.2386e-03\tpsnr=13.963\n",
            "21-09-17-16:29:25\t[103/500]\tloss=7.1095e-03\tpsnr=13.988\n",
            "21-09-17-16:30:08\t[104/500]\tloss=7.0661e-03\tpsnr=13.969\n",
            "21-09-17-16:30:51\t[105/500]\tloss=7.0726e-03\tpsnr=13.987\n",
            "21-09-17-16:31:34\t[106/500]\tloss=7.1371e-03\tpsnr=13.980\n",
            "21-09-17-16:32:17\t[107/500]\tloss=7.0043e-03\tpsnr=13.992\n",
            "21-09-17-16:33:00\t[108/500]\tloss=7.0870e-03\tpsnr=14.003\n",
            "21-09-17-16:33:44\t[109/500]\tloss=6.9710e-03\tpsnr=14.016\n",
            "21-09-17-16:34:27\t[110/500]\tloss=6.8816e-03\tpsnr=14.040\n",
            "21-09-17-16:35:10\t[111/500]\tloss=7.0614e-03\tpsnr=13.997\n",
            "21-09-17-16:35:53\t[112/500]\tloss=6.8968e-03\tpsnr=14.025\n",
            "21-09-17-16:36:36\t[113/500]\tloss=6.9556e-03\tpsnr=14.009\n",
            "21-09-17-16:37:20\t[114/500]\tloss=6.8957e-03\tpsnr=14.040\n",
            "21-09-17-16:38:03\t[115/500]\tloss=6.8281e-03\tpsnr=14.034\n",
            "21-09-17-16:38:46\t[116/500]\tloss=6.8969e-03\tpsnr=14.015\n",
            "21-09-17-16:39:29\t[117/500]\tloss=6.8561e-03\tpsnr=14.020\n",
            "21-09-17-16:40:12\t[118/500]\tloss=6.8114e-03\tpsnr=14.061\n"
          ]
        }
      ]
    },
    {
      "cell_type": "markdown",
      "metadata": {
        "id": "92C0NFvJS2-s"
      },
      "source": [
        "**Test** a trained EI model."
      ]
    },
    {
      "cell_type": "code",
      "metadata": {
        "colab": {
          "base_uri": "https://localhost:8080/",
          "height": 115
        },
        "id": "mIKwYlQUR39s",
        "outputId": "9d7c6863-1050-4060-871a-d04622e95f43"
      },
      "source": [
        "# Test\n",
        "ckp_sup = './ckp/21-09-17-12:39:23_cs4x_sup/ckp_29.pth.tar'\n",
        "ckp_mc = './ckp/21-09-17-12:48:50_cs4x_mc/ckp_29.pth.tar'\n",
        "ckp_ei = './ckp/21-09-17-12:58:21_cs4x_ei/ckp_29.pth.tar'\n",
        "\n",
        "unet = UNet().to(device)\n",
        "def test(net, ckp, ATy):\n",
        "  checkpoint = torch.load(ckp, map_location=device)\n",
        "  net.load_state_dict(checkpoint['state_dict'])\n",
        "  net.to(device).eval()\n",
        "  return net(ATy)\n",
        "\n",
        "# ground-truh\n",
        "x = test_dataset[0][0].type(dtype).to(device) #torch.Size([1, 1, 16, 16])\n",
        "# measurement\n",
        "y = physics.A(x)\n",
        "ATy = physics.A_dagger(y)\n",
        "\n",
        "x_ei = test(unet, ckp_ei, ATy)\n",
        "x_mc = test(unet, ckp_mc, ATy)\n",
        "x_sup = test(unet, ckp_sup, ATy)\n",
        "\n",
        "plt.subplot(1,6,1)\n",
        "plt.imshow(torch2img(y.view(1,1,4,16)), cmap='gray'), plt.title('y'), plt.axis('off')\n",
        "plt.subplot(1,6,2)\n",
        "plt.imshow(torch2img(ATy), cmap='gray'), plt.title(r'$A^+y$'+'\\n{:.2f}'.format(cal_psnr(ATy, x))), plt.axis('off')\n",
        "plt.subplot(1,6,3)\n",
        "plt.imshow(torch2img(x_mc), cmap='gray'), plt.title('MC\\n{:.2f}'.format(cal_psnr(x_mc, x))), plt.axis('off')\n",
        "plt.subplot(1,6,4)\n",
        "plt.imshow(torch2img(x_ei), cmap='gray'), plt.title('EI\\n{:.2f}'.format(cal_psnr(x_ei, x))), plt.axis('off')\n",
        "plt.subplot(1,6,5)\n",
        "plt.imshow(torch2img(x_sup), cmap='gray'), plt.title('Sup\\n{:.2f}'.format(cal_psnr(x_sup, x))), plt.axis('off')\n",
        "plt.subplot(1,6,6)\n",
        "plt.imshow(torch2img(x), cmap='gray'), plt.title('x (GT)'), plt.axis('off')\n",
        "plt.show()"
      ],
      "execution_count": null,
      "outputs": [
        {
          "output_type": "display_data",
          "data": {
            "image/png": "[encoded data removed]",
            "text/plain": [
              "<Figure size 432x288 with 6 Axes>"
            ]
          },
          "metadata": {
            "needs_background": "light"
          }
        }
      ]
    }
  ]
}