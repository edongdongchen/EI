{
  "nbformat": 4,
  "nbformat_minor": 0,
  "metadata": {
    "colab": {
      "name": "ei_demo_cs_usps.ipynb",
      "provenance": [],
      "collapsed_sections": [],
      "authorship_tag": "ABX9TyNl9N136Zp6YCs/FNF0KeLD",
      "include_colab_link": true
    },
    "kernelspec": {
      "name": "python3",
      "display_name": "Python 3"
    },
    "language_info": {
      "name": "python"
    },
    "accelerator": "GPU"
  },
  "cells": [
    {
      "cell_type": "markdown",
      "metadata": {
        "id": "view-in-github",
        "colab_type": "text"
      },
      "source": [
        "<a href=\"https://colab.research.google.com/github/edongdongchen/EI/blob/main/ei_demo_cs_usps.ipynb\" target=\"_parent\"><img src=\"https://colab.research.google.com/assets/colab-badge.svg\" alt=\"Open In Colab\"/></a>"
      ]
    },
    {
      "cell_type": "code",
      "metadata": {
        "id": "OjnZAd-LuM_B"
      },
      "source": [
        "import numpy as np\n",
        "import torch\n",
        "import torch.nn as nn\n",
        "import torchvision.transforms as transforms\n",
        "from torchvision.datasets import USPS\n",
        "from torch.utils.data import DataLoader\n",
        "\n",
        "import os\n",
        "from datetime import datetime\n",
        "import matplotlib.pyplot as plt"
      ],
      "execution_count": 1,
      "outputs": []
    },
    {
      "cell_type": "code",
      "metadata": {
        "id": "razUOZiJy_ip"
      },
      "source": [
        "# define an inverse problem e.g. Compressed Sensing (CS)\n",
        "# where the forward operator A is a random projection matrix\n",
        "class CS():\n",
        "  def __init__(self, d, D, img_shape, dtype=torch.float, device='cuda:0'):\n",
        "    self.img_shape = img_shape\n",
        "    fname = './dataset/forw_cs_{}x{}.pt'.format(d, D)\n",
        "    if os.path.exists(fname):\n",
        "      A, A_dagger = torch.load(fname)\n",
        "    else:\n",
        "      A = np.random.randn(d, D) / np.sqrt(d)\n",
        "      A_dagger = np.linalg.pinv(A)\n",
        "      torch.save([A, A_dagger], fname)\n",
        "      print('CS matrix has been created and saved at {}'.format(fname))\n",
        "    self._A = torch.from_numpy(A).type(dtype).to(device)\n",
        "    self._A_dagger = torch.from_numpy(A_dagger).type(dtype).to(device)\n",
        "\n",
        "  def A(self, x):\n",
        "    y = torch.einsum('in, mn->im', x.reshape(x.shape[0], -1), self._A)\n",
        "    return y\n",
        "\n",
        "  def A_dagger(self, y):\n",
        "    N, C, H, W = y.shape[0], self.img_shape[0], self.img_shape[1], self.img_shape[2]\n",
        "    x = torch.einsum('im, nm->in', y, self._A_dagger)\n",
        "    x = x.reshape(N, C, H, W)\n",
        "    return x"
      ],
      "execution_count": 2,
      "outputs": []
    },
    {
      "cell_type": "markdown",
      "metadata": {
        "id": "n9NGveNuTFXo"
      },
      "source": [
        "Plot the compressed measurement $y$ and its Groundtruth $x$. "
      ]
    },
    {
      "cell_type": "code",
      "metadata": {
        "colab": {
          "base_uri": "https://localhost:8080/",
          "height": 231
        },
        "id": "WPtgnuYMw-tj",
        "outputId": "0d702ab2-826d-490f-f14e-a9ca2761d618"
      },
      "source": [
        "dtype = torch.float\n",
        "device = 'cuda:0'\n",
        "batch_size = 1\n",
        "\n",
        "# test set\n",
        "test_dataset = USPS(root='./dataset/', train=False, download=True, transform=transforms.ToTensor())\n",
        "test_dataloader=DataLoader(test_dataset,batch_size=1,shuffle=False)\n",
        "\n",
        "# define a CS (4x) operator\n",
        "physics = CS(64, 256, [1,16,16], dtype, device)\n",
        "# ground-truh\n",
        "x = test_dataset[0][0].type(dtype).to(device) #torch.Size([1, 1, 16, 16])\n",
        "# measurement\n",
        "y = physics.A(x)\n",
        "\n",
        "print(f'x (GT): {x.shape}\\ty: {y.shape}')\n",
        "\n",
        "def torch2img(x):\n",
        "  return x.squeeze().detach().cpu().numpy()\n",
        "  \n",
        "def cal_psnr(a, b):\n",
        "  alpha = np.sqrt(a.shape[-1]*a.shape[-2])\n",
        "  psnr = 20*torch.log10(alpha*torch.norm(b, float('inf'))/torch.norm(b-a, 2))\n",
        "  return psnr.detach().cpu().numpy()\n",
        "\n",
        "ATy = physics.A_dagger(y)\n",
        "# have a look at the cs measurement y, A^+y, and the ground-truth x.\n",
        "plt.subplot(1,3,1)\n",
        "plt.imshow(torch2img(y.view(1,1,4,16)), cmap='gray'), plt.title('y'), plt.axis('off')\n",
        "plt.subplot(1,3,2)\n",
        "plt.imshow(torch2img(ATy), cmap='gray'), plt.title(r'$A^+y$ ({:.2f} dB)'.format(cal_psnr(ATy, x))), plt.axis('off')\n",
        "plt.subplot(1,3,3)\n",
        "plt.imshow(torch2img(x), cmap='gray'), plt.title('x (GT)'), plt.axis('off')\n",
        "plt.show()"
      ],
      "execution_count": 3,
      "outputs": [
        {
          "output_type": "stream",
          "name": "stdout",
          "text": [
            "Downloading https://www.csie.ntu.edu.tw/~cjlin/libsvmtools/datasets/multiclass/usps.t.bz2 to ./dataset/usps.t.bz2\n"
          ]
        },
        {
          "output_type": "display_data",
          "data": {
            "application/vnd.jupyter.widget-view+json": {
              "model_id": "67435fc9fa7a409c9eae1fb077dd0671",
              "version_minor": 0,
              "version_major": 2
            },
            "text/plain": [
              "  0%|          | 0/1831726 [00:00<?, ?it/s]"
            ]
          },
          "metadata": {}
        },
        {
          "output_type": "stream",
          "name": "stdout",
          "text": [
            "CS matrix has been created and saved at ./dataset/forw_cs_64x256.pt\n",
            "x (GT): torch.Size([1, 16, 16])\ty: torch.Size([1, 64])\n"
          ]
        },
        {
          "output_type": "display_data",
          "data": {
            "image/png": "[encoded data removed]",
            "text/plain": [
              "<Figure size 432x288 with 3 Axes>"
            ]
          },
          "metadata": {
            "needs_background": "light"
          }
        }
      ]
    },
    {
      "cell_type": "markdown",
      "metadata": {
        "id": "AE-rRMOm93Lj"
      },
      "source": [
        "\n",
        "\n",
        "---\n",
        "To learn the reconstruction function $f:y\\rightarrow x$ from only the measurements set $\\{y\\}$, we assume the signal set $\\mathcal{X}$ is invariant to a groups of transformations $T_g$ related to a group 𝒢, where $T_gT_g^{\\top}=I$. For example:\n",
        "    \n",
        "    - natural images are shift invariant.\n",
        "    - in CT/MRI data, organs can be imaged at different angles making the problem invariant to rotation.\n",
        "\n",
        "Key observations: \n",
        "- Invariance provides access to implicit operators $A_g=AT_g$ with potentially different range spaces: $Ax=AT_gT_g^{\\top}x=A_g\\tilde{x}$  where $A_g=AT_g$ and $\\tilde{x}=T_g^{\\top}x$.\n",
        "\n",
        "- The composition $f\\circ A$ is equivariant to the group of transformations ${T_g}$:  $f(AT_gx)=T_gf(Ax)$\n",
        "\n",
        "\n",
        "# **EI:** All you need is to:\n",
        "  * Define:\n",
        "1. define a transformation group $\\{T_g\\}$ based on the certain invariances to the signal set.\n",
        "2. define a neural reconstruction function $f_\\theta: y\\rightarrow x$, *e.g.* $f_\\theta=G_\\theta\\circ A^{\\dagger}$ and $G_\\theta$ could be a UNet-like encoder-decoder net.\n",
        "\n",
        "  * Calculate:\n",
        "1. calculate $x^{(1)} = f_\\theta(y)$ as the estimation of $x$.\n",
        "2. calculate $x^{(2)} = T_g(x^{(1)})$ by transforming $x^{(1)}$.\n",
        "2. calculate $x^{(3)} = f_\\theta(Ax^{(2)})$ by reconstructing $x^{(2)}$ from its measurement $Ax^{(2)}$.\n",
        "\n",
        "\n",
        "  * Finaly, learn the reconstruction function $f_\\theta$ by solving: \n",
        "$\\arg\\min\\limits_\\theta\\mathbb{E}_{y,g}\\{\\mathcal{L}(Ax^{(1)},y) +\\lambda\\mathcal{L}(x^{(2)},x^{(3)})\\}$."
      ]
    },
    {
      "cell_type": "code",
      "metadata": {
        "id": "bqiygCZ0HcQs"
      },
      "source": [
        "# define a transformation group (random shift)\n",
        "import random\n",
        "class Shift():\n",
        "  def __init__(self, n_trans):\n",
        "    self.n_trans = n_trans\n",
        "  def apply(self, x):\n",
        "    H, W = x.shape[-2], x.shape[-1]\n",
        "    assert self.n_trans <= H - 1 and self.n_trans <= W - 1, 'n_shifts should less than {}'.format(H-1)\n",
        "\n",
        "    shifts_row = random.sample(list(np.concatenate([-1*np.arange(1, H), np.arange(1, H)])), self.n_trans)\n",
        "    shifts_col = random.sample(list(np.concatenate([-1*np.arange(1, W), np.arange(1, W)])), self.n_trans)\n",
        "\n",
        "    x = torch.cat([x if self.n_trans == 0 else torch.roll(x, shifts=[sx, sy], dims=[-2,-1]).type_as(x)\n",
        "              for sx, sy in zip(shifts_row, shifts_col)], dim=0)\n",
        "    return x"
      ],
      "execution_count": 4,
      "outputs": []
    },
    {
      "cell_type": "code",
      "metadata": {
        "id": "tUX5jch5UeBf"
      },
      "source": [
        "# define residual unet\n",
        "class UNet(nn.Module):\n",
        "  def __init__(self, in_channels=1, out_channels=1, compact=4, residual=True, circular_padding=True, cat=True):\n",
        "    super(UNet, self).__init__()\n",
        "    self.name = 'unet'\n",
        "    self.residual = residual\n",
        "    self.cat = cat\n",
        "\n",
        "    self.Maxpool = nn.MaxPool2d(kernel_size=2, stride=2)\n",
        "\n",
        "    self.Conv1 = conv_block(ch_in=in_channels, ch_out=64, circular_padding=circular_padding)\n",
        "    self.Conv2 = conv_block(ch_in=64, ch_out=128)\n",
        "    self.Conv3 = conv_block(ch_in=128, ch_out=256)\n",
        "    self.Conv4 = conv_block(ch_in=256, ch_out=512)\n",
        "\n",
        "    self.Up4 = up_conv(ch_in=512, ch_out=256)\n",
        "    self.Up_conv4 = conv_block(ch_in=512, ch_out=256)\n",
        "\n",
        "    self.Up3 = up_conv(ch_in=256, ch_out=128)\n",
        "    self.Up_conv3 = conv_block(ch_in=256, ch_out=128)\n",
        "\n",
        "    self.Up2 = up_conv(ch_in=128, ch_out=64)\n",
        "    self.Up_conv2 = conv_block(ch_in=128, ch_out=64)\n",
        "\n",
        "    self.Conv_1x1 = nn.Conv2d(in_channels=64, out_channels=out_channels, kernel_size=1, stride=1, padding=0)\n",
        "  \n",
        "  def forward(self, x):\n",
        "    # encoding path\n",
        "    cat_dim = 1\n",
        "    input = x\n",
        "    x1 = self.Conv1(input)\n",
        "\n",
        "    x2 = self.Maxpool(x1)\n",
        "    x2 = self.Conv2(x2)\n",
        "\n",
        "    x3 = self.Maxpool(x2)\n",
        "    x3 = self.Conv3(x3)\n",
        "\n",
        "    d3 = self.Up3(x3)\n",
        "    if self.cat:\n",
        "        d3 = torch.cat((x2, d3), dim=cat_dim)\n",
        "        d3 = self.Up_conv3(d3)\n",
        "\n",
        "    d2 = self.Up2(d3)\n",
        "    if self.cat:\n",
        "        d2 = torch.cat((x1, d2), dim=cat_dim)\n",
        "        d2 = self.Up_conv2(d2)\n",
        "\n",
        "    d1 = self.Conv_1x1(d2)\n",
        "\n",
        "    out = d1+x if self.residual else d1\n",
        "    return out\n",
        "\n",
        "class conv_block(nn.Module):\n",
        "  def __init__(self, ch_in, ch_out, circular_padding=False):\n",
        "    super(conv_block, self).__init__()\n",
        "    self.conv = nn.Sequential(\n",
        "        nn.Conv2d(ch_in, ch_out, kernel_size=3, stride=1, padding=1, bias=True,\n",
        "                  padding_mode='circular' if circular_padding else 'zeros'),\n",
        "        nn.BatchNorm2d(ch_out),\n",
        "        nn.ReLU(inplace=True),\n",
        "        nn.Conv2d(ch_out, ch_out, kernel_size=3, stride=1, padding=1, bias=True),\n",
        "        nn.BatchNorm2d(ch_out),\n",
        "        nn.ReLU(inplace=True)\n",
        "    )\n",
        "  def forward(self, x):\n",
        "    x = self.conv(x)\n",
        "    return x\n",
        "\n",
        "class up_conv(nn.Module):\n",
        "  def __init__(self, ch_in, ch_out):\n",
        "    super(up_conv, self).__init__()\n",
        "    self.up = nn.Sequential(\n",
        "        nn.Upsample(scale_factor=2),\n",
        "        nn.Conv2d(ch_in, ch_out, kernel_size=3, stride=1, padding=1, bias=True),\n",
        "        nn.BatchNorm2d(ch_out),\n",
        "        nn.ReLU(inplace=True)\n",
        "    )\n",
        "\n",
        "  def forward(self, x):\n",
        "    x = self.up(x)\n",
        "    return x"
      ],
      "execution_count": 5,
      "outputs": []
    },
    {
      "cell_type": "markdown",
      "metadata": {
        "id": "sMxC3CHeOwZO"
      },
      "source": [
        "Define the Neural Reconstruction Funtion $f_\\theta=G_\\theta\\circ A^\\dagger$:"
      ]
    },
    {
      "cell_type": "code",
      "metadata": {
        "id": "MkhUYkdoGngt"
      },
      "source": [
        "G = UNet().to(device)\n",
        "f = lambda y: G(physics.A_dagger(y))"
      ],
      "execution_count": 6,
      "outputs": []
    },
    {
      "cell_type": "markdown",
      "metadata": {
        "id": "fbNWZqhGYYfI"
      },
      "source": [
        "Define the transformation group $\\{T_g\\}$:\n"
      ]
    },
    {
      "cell_type": "code",
      "metadata": {
        "id": "UGqs8d1dYfNY"
      },
      "source": [
        "T = Shift(n_trans=2) # random shift: return n_trans=2 randomly shifted versions of the input"
      ],
      "execution_count": 7,
      "outputs": []
    },
    {
      "cell_type": "markdown",
      "metadata": {
        "id": "Y9IAfN1lPCNa"
      },
      "source": [
        "**Start Training:**"
      ]
    },
    {
      "cell_type": "code",
      "metadata": {
        "id": "AcDi0thJYq71"
      },
      "source": [
        "# Equivariant Imaging\n",
        "# note: the below hyper-parameters value is just for an example and may not be the best setting.\n",
        "lr = 5e-4\n",
        "wd = 1e-8\n",
        "batch_size=8\n",
        "epochs = 300\n",
        "ckp_interval = 100\n",
        "alpha = 10 # equivariance strength\n",
        "\n",
        "\n",
        "dataloader=DataLoader(USPS(root='./dataset/',train=True,download=True, transform=transforms.ToTensor()),batch_size=batch_size,shuffle=True)\n",
        "now = lambda: datetime.now().strftime('%y-%m-%d-%H:%M:%S')\n",
        "\n",
        "def train(alpha=alpha):\n",
        "  optimizer = torch.optim.Adam(G.parameters(), lr=lr, weight_decay=wd)\n",
        "  mse = torch.nn.MSELoss().to(device)\n",
        "\n",
        "  save_path = './ckp/{}_ei_cs4x_alpha_{}'.format(now(), alpha)\n",
        "  os.makedirs(save_path, exist_ok=True)\n",
        "\n",
        "  for epoch in range(epochs):\n",
        "    loss_mc_epoch, loss_ei_epoch, loss_epoch, psnr_epoch = [], [], [], []\n",
        "    for i, x in enumerate(dataloader):\n",
        "      x = x[0].type(dtype).to(device) #torch.Size([4, 1, 16, 16])\n",
        "      y = physics.A(x) #generate the measurements for training\n",
        "      \n",
        "      # only 4 lines of code for training EI\n",
        "      # =========== EI start ============\n",
        "      x1 = f(y) # reconstruction of the groundtruth x\n",
        "      x2 = T.apply(x1) # transform\n",
        "      x3 = f(physics.A(x2)) # reconstruct the transformed data\n",
        "      loss = mse(physics.A(x1), y) + alpha * mse(x3, x2)\n",
        "      # =========== EI end ============\n",
        "\n",
        "      loss_epoch.append(loss.item())\n",
        "      psnr_epoch.append(cal_psnr(x1, x)) # \n",
        "\n",
        "      optimizer.zero_grad()\n",
        "      loss.backward()\n",
        "      optimizer.step()\n",
        "    print('{}\\t[{}/{}]\\tloss={:.4e}\\tpsnr={:.3f}'.format(now(), epoch,epochs,np.mean(loss_epoch), np.mean(psnr_epoch)))\n",
        "    \n",
        "    # save the trained model\n",
        "    if epoch % ckp_interval == 0 or epoch + 1 == epochs:\n",
        "      state = {'epoch': epoch, 'state_dict': G.state_dict(), 'optimizer': optimizer.state_dict()} \n",
        "      torch.save(state, os.path.join(save_path, 'ckp_{}.pth.tar'.format(epoch)))\n",
        "\n",
        "train()\n"
      ],
      "execution_count": null,
      "outputs": []
    },
    {
      "cell_type": "markdown",
      "metadata": {
        "id": "92C0NFvJS2-s"
      },
      "source": [
        "**Test** a trained EI model."
      ]
    },
    {
      "cell_type": "code",
      "metadata": {
        "id": "yTp6vmmEBFXI"
      },
      "source": [
        "# Test\n",
        "def test(net, ckp, ATy):\n",
        "  checkpoint = torch.load(ckp, map_location=device)\n",
        "  net.load_state_dict(checkpoint['state_dict'])\n",
        "  net.to(device).eval()\n",
        "  return net(ATy)\n",
        "\n",
        "# load the trained EI model\n",
        "ckp_ei = './ckp/21-09-17-12:58:21_cs4x_ei/ckp_29.pth.tar' # replace the path with your trained model\n",
        "unet = UNet().to(device)\n",
        "\n",
        "# ground-truh\n",
        "x = test_dataset[0][0].type(dtype).to(device) #torch.Size([1, 1, 16, 16])\n",
        "# measurement\n",
        "y = physics.A(x)\n",
        "ATy = physics.A_dagger(y)\n",
        "x_ei = test(unet, ckp_ei, ATy)\n",
        "\n",
        "plt.subplot(1,4,1)\n",
        "plt.imshow(torch2img(y.view(1,1,4,16)), cmap='gray'), plt.title('y'), plt.axis('off')\n",
        "plt.subplot(1,4,2)\n",
        "plt.imshow(torch2img(ATy), cmap='gray'), plt.title(r'$A^+y$'+'\\n{:.2f}'.format(cal_psnr(ATy, x))), plt.axis('off')\n",
        "plt.subplot(1,4,3)\n",
        "plt.imshow(torch2img(x_ei), cmap='gray'), plt.title('EI\\n{:.2f}'.format(cal_psnr(x_ei, x))), plt.axis('off')\n",
        "plt.subplot(1,4,4)\n",
        "plt.imshow(torch2img(x), cmap='gray'), plt.title('x (GT)'), plt.axis('off')\n",
        "plt.show()"
      ],
      "execution_count": null,
      "outputs": []
    }
  ]
}
